{
 "cells": [
  {
   "cell_type": "code",
   "execution_count": 1,
   "metadata": {
    "extensions": {
     "jupyter_dashboards": {
      "activeView": "grid_default",
      "views": {
       "grid_default": {
        "col": null,
        "height": 2,
        "hidden": true,
        "row": null,
        "width": 2
       }
      }
     }
    }
   },
   "outputs": [
    {
     "data": {
      "application/vnd.jupyter.widget-view+json": {
       "model_id": "16ef93779cab4ab9b1f37b1512eb41ed",
       "version_major": 2,
       "version_minor": 0
      },
      "image/png": "[encoded data removed]",
      "text/html": [
       "\n",
       "            <div style=\"display: inline-block;\">\n",
       "                <div class=\"jupyter-widgets widget-label\" style=\"text-align: center;\">\n",
       "                    Figure\n",
       "                </div>\n",
       "                <img src='data:image/png;base64,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' width=640.0/>\n",
       "            </div>\n",
       "        "
      ],
      "text/plain": [
       "Canvas(toolbar=Toolbar(toolitems=[('Home', 'Reset original view', 'home', 'home'), ('Back', 'Back to previous …"
      ]
     },
     "metadata": {},
     "output_type": "display_data"
    }
   ],
   "source": [
    "%matplotlib widget\n",
    "import matplotlib.pyplot as plt\n",
    "# from ipywidgets import Button, Layout, jslink, IntText, IntSlider, interactive, interact, HBox, Layout, VBox\n",
    "\n",
    "plt.figure()\n",
    "plt.plot(1,1,\"o\")\n",
    "plt.show()"
   ]
  },
  {
   "attachments": {},
   "cell_type": "markdown",
   "metadata": {},
   "source": [
    "\n",
    "## Thresholding analysis\n",
    "The threshold is computed by optimizing the SNR:\n",
    "\n",
    "$$ SNR_1(T) = F_{True,pos}(T)\\frac{S \\times F_{e^->0,ADU>T}}{\\sqrt{ F_{e^->0,ADU>T} \\times(S + \\sigma_{CIC}^2 + \\sigma_{DC}^2+ \\sigma_{SKY}^2)  + F_{e^-=0,ADU>T} \\frac{\\sigma_{RN}^2}{Gain} }} \n",
    "\\sim F_{True,pos}(T) \\frac{S \\sqrt{ F_{e^->0,ADU>T}}}{\\sqrt{S + \\sigma_{CIC}^2 + \\sigma_{DC}^2+ \\sigma_{SKY}^2 }}$$\n",
    "\n",
    "\n",
    "\n",
    "with:\n",
    "- $\\sigma_{RN}^2=\\frac{RN}{G_{EM}} \\times \\frac{\\sum RN[RN>T]}{\\sum RN} = \\frac{RN}{EMgain}  \\times \\%pix_{e^-=0}^{ADU>T}$: ie 60e-/2000 x the fraction of pixels above the threshold which dit not receive any photo-electrons -->\n",
    "- $ F_{e^->0,ADU>T}$ :  fraction of pixels above the threshold which received more than 0 electons\n",
    "- $ F_{e^-=0,ADU>T}$ :  fraction of pixels above the threshold which did not receive any electron\n",
    "- $F_{True,pos} = \\frac{F_{e^->0,ADU>T}}{F_{ADU>T}} $ : the fraction of true positives = the fraction of pixels above the threshold which received more than 0 electons. This uncertainty term is not in the final SNR formula as it converges towards ~1 after stacking as the average pixel value will converge towards the real number of incoming photo-electrons\n",
    "\n",
    "\n",
    "The thresholding depends on 5 factors:\n",
    "- **The gain**: the higher the gain the easier it is to differentiate pixels who received a photo-electron and those which did not\n",
    "- **The read noise**: the lower the RN the easier it is to differentiate pixels who received a photo-electron and those which did not\n",
    "- **The low CTE** smears the charges, from pixels who did receive a photo-electron to pixel who did not and lower the effective gain $G_{EM,eff}$\n",
    "- **The signal**: because thresholding only allows to recover 0 and 1, thresholding is only efficient at flux <<1e-/exp \n",
    "- **The additional noise**: $\\sigma = \\sigma_{CIC}^2 + \\sigma_{DC}^2+ \\sigma_{SKY}^2$ has relatively small impact on the impact of the thresholding\n",
    "\n",
    "**At the end, the thresholding impact is:**\n",
    "- Highly non linear, many things to learn\n",
    "- The efficiency of the thresholding depends mostly of the ratio $\\frac{G_{EM,eff}}{RN}$, which extremely impacted by the smearing.\n",
    "- The thresholding SNR gain ($SNR_{threshold}$ /$SNR_{analogic}$) lies within $[0,\\sqrt{2}]$. Condditions are pretty stricts to get som thresholding efficiency and smearing makes the upper bound falls dramatically. \n",
    "- Therefore if might not worth it to loose SNR in order to be in these very conditions as we will loose it anyway in the final budget.\n",
    "- The thresholding SNR gain seems less impacted by read noise. Which means that if we manage to do some (linear?) inversion of the smearing which increases the noise, it might still increase the thresholding gain above 1. \n",
    "- The only real game changer in terms of SNR is the smearing \n",
    "- **Fraction kept (photo-electrons above threshold)**\n",
    "    - Important dependance on smearing and flux, less important one on gain and read noise.\n",
    "    - At low smearing the bigger the ratio gain/ron the higher the fraction of charges kept.\n",
    "    - Evolution with smearing is dramatic, higher gain does not help much, lower RN helps\n",
    "    - Fraction increase with flux \n",
    "- **Fraction fake detections (0e- pixels above threshold)**\n",
    "    - Increases importantly with smearing\n",
    "    - does not depend much on read noise (small positive correlation)\n",
    "    - decreases with gain\n",
    "    - Increases as Flux increase. Not sure to understand why... Maybe because the number of pixels with 0 photo-e- cecreases \n",
    "- **Thresholding SNR gain**\n",
    "    - Thresholding is efficient only if >1\n",
    "    - Dramatically decreases with smearing (No interest of thrsholding above smearing legth of 0.6)\n",
    "    - Increases with gain and decreases with read noise if no smearing\n",
    "    - if smearing, the read noise has no impact.\n",
    "    - Increases with flux\n",
    "- **Threshold**\n",
    "    - increase extremely with smearing\n",
    "    - Without smearing, poor dependance on gain and readnoise\n",
    "    - If smearing, increases as readnoise decreases\n",
    "    - If smearing: Increasing with gain!\n",
    "    - Increases with flux\n",
    "\n",
    "\n",
    "\n",
    "\n",
    "|   **Thresholding dependancy table**                   | **Smearing <br />  ( 0 - 2 )** | **Read noise  <br /> ( 30 - 120 )** | **Gain  <br /> ( 800 - 2500 )** | **Flux <br /> ( 0.01 - 1.5 )** |\n",
    "|:--------------------:|:------------------:|:-----------------------:|:-------------------:|:------------------:|\n",
    "|     **Photo-electron Fraction kept**    |    --- <br /> 92% - 66%    |       -  <br /> 72% - 71%       |     .   <br /> 72% - 71%    |     +  <br /> 75% - 76%    |\n",
    "| **RN fraction kept** |  +++  <br /> 0.6% - 12.4%  |       +  <br /> 0.7% - 1%       |    -  <br /> 1.1% - 0.5%    |    ++?  <br /> 0.3% - 3%   |\n",
    "|     **Threshold**    |   +++  <br /> 3 σ - 11 σ   |      --  <br /> 18 σ - 5 σ      |     + <br />  5 σ - 16 σ    |    +? <br />  8 σ - 13 σ    |\n",
    "|        **Thresholding SNR gain**       |     --- <br />  1.3 - 0.6   |        --  <br /> 1.35 - 1.22        |      +  <br /> 1.13 - 1.18      |      ++  <br /> 1.16 - 1.21     |\n",
    "\n"
   ]
  },
  {
   "cell_type": "markdown",
   "metadata": {},
   "source": []
  }
 ],
 "metadata": {
  "extensions": {
   "jupyter_dashboards": {
    "activeView": "grid_default",
    "version": 1,
    "views": {
     "grid_default": {
      "cellMargin": 2,
      "defaultCellHeight": 400,
      "maxColumns": 12,
      "name": "grid",
      "type": "grid"
     }
    }
   }
  },
  "kernelspec": {
   "display_name": "Python 3 (ipykernel)",
   "language": "python",
   "name": "python3"
  },
  "language_info": {
   "codemirror_mode": {
    "name": "ipython",
    "version": 3
   },
   "file_extension": ".py",
   "mimetype": "text/x-python",
   "name": "python",
   "nbconvert_exporter": "python",
   "pygments_lexer": "ipython3",
   "version": "3.8.13"
  },
  "vscode": {
   "interpreter": {
    "hash": "6429251b47eee9d8b9b4d9852116ca976e0b69b141b5bab3b174d6f3c07282ea"
   }
  }
 },
 "nbformat": 4,
 "nbformat_minor": 4
}
